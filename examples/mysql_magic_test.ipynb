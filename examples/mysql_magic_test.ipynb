{
 "cells": [
  {
   "cell_type": "markdown",
   "id": "d506c2f1",
   "metadata": {},
   "source": [
    "# load extension"
   ]
  },
  {
   "cell_type": "code",
   "execution_count": 1,
   "id": "7ed007c1",
   "metadata": {},
   "outputs": [],
   "source": [
    "%reload_ext mysqlmagic"
   ]
  },
  {
   "cell_type": "markdown",
   "id": "3ca4b0a8",
   "metadata": {},
   "source": [
    "# set database configs"
   ]
  },
  {
   "cell_type": "code",
   "execution_count": 2,
   "id": "21c60a09",
   "metadata": {
    "scrolled": false
   },
   "outputs": [
    {
     "name": "stdout",
     "output_type": "stream",
     "text": [
      "Connect to the database successfully! The database version is 5.7.36\n"
     ]
    }
   ],
   "source": [
    "%%configs\n",
    "{\n",
    "    \"user\": \"root\",\n",
    "    \"password\": \"admin\",\n",
    "    \"host\": \"127.0.0.1\",\n",
    "    \"port\": 3308\n",
    "}"
   ]
  },
  {
   "cell_type": "code",
   "execution_count": 3,
   "id": "8ca4496a",
   "metadata": {
    "scrolled": false
   },
   "outputs": [
    {
     "name": "stdout",
     "output_type": "stream",
     "text": [
      "0\n"
     ]
    }
   ],
   "source": [
    "%%mysql\n",
    "USE PEOPLE;"
   ]
  },
  {
   "cell_type": "code",
   "execution_count": 4,
   "id": "3935b640",
   "metadata": {},
   "outputs": [
    {
     "data": {
      "text/html": [
       "<table border=\"1\" class=\"dataframe\">\n",
       "  <thead>\n",
       "    <tr style=\"text-align: right;\">\n",
       "      <th></th>\n",
       "      <th>Tables_in_PEOPLE</th>\n",
       "    </tr>\n",
       "  </thead>\n",
       "  <tbody>\n",
       "    <tr>\n",
       "      <th>0</th>\n",
       "      <td>Employee</td>\n",
       "    </tr>\n",
       "  </tbody>\n",
       "</table>"
      ],
      "text/plain": [
       "<IPython.core.display.HTML object>"
      ]
     },
     "metadata": {},
     "output_type": "display_data"
    }
   ],
   "source": [
    "%%mysql\n",
    "SHOW tables;"
   ]
  },
  {
   "cell_type": "markdown",
   "id": "8948effa",
   "metadata": {},
   "source": [
    "# create table"
   ]
  },
  {
   "cell_type": "code",
   "execution_count": 5,
   "id": "96b2ff45",
   "metadata": {},
   "outputs": [
    {
     "name": "stdout",
     "output_type": "stream",
     "text": [
      "0\n"
     ]
    }
   ],
   "source": [
    "%%mysql\n",
    "DROP TABLE IF EXISTS Employee;\n",
    "\n",
    "CREATE TABLE Employee (\n",
    "    PersonID int,\n",
    "    FirstName varchar(255),\n",
    "    LastName varchar(255),\n",
    "    Age int,\n",
    "    Sex varchar(255),\n",
    "    Income float\n",
    ");"
   ]
  },
  {
   "cell_type": "markdown",
   "id": "569b0352",
   "metadata": {},
   "source": [
    "# insert"
   ]
  },
  {
   "cell_type": "code",
   "execution_count": 6,
   "id": "8dff7d74",
   "metadata": {},
   "outputs": [
    {
     "name": "stdout",
     "output_type": "stream",
     "text": [
      "1\n"
     ]
    }
   ],
   "source": [
    "%%mysql\n",
    "INSERT INTO Employee(PersonID, FirstName, LastName, Age, Sex, Income)\n",
    "VALUES (1, 'Jack', 'Ma', 50, 'M', 20000000)"
   ]
  },
  {
   "cell_type": "markdown",
   "id": "b31576dc",
   "metadata": {},
   "source": [
    "# select"
   ]
  },
  {
   "cell_type": "code",
   "execution_count": 7,
   "id": "071de6e9",
   "metadata": {
    "scrolled": true
   },
   "outputs": [
    {
     "data": {
      "text/html": [
       "<table border=\"1\" class=\"dataframe\">\n",
       "  <thead>\n",
       "    <tr style=\"text-align: right;\">\n",
       "      <th></th>\n",
       "      <th>PersonID</th>\n",
       "      <th>FirstName</th>\n",
       "      <th>LastName</th>\n",
       "      <th>Age</th>\n",
       "      <th>Sex</th>\n",
       "      <th>Income</th>\n",
       "    </tr>\n",
       "  </thead>\n",
       "  <tbody>\n",
       "    <tr>\n",
       "      <th>0</th>\n",
       "      <td>1</td>\n",
       "      <td>Jack</td>\n",
       "      <td>Ma</td>\n",
       "      <td>50</td>\n",
       "      <td>M</td>\n",
       "      <td>20000000.0</td>\n",
       "    </tr>\n",
       "  </tbody>\n",
       "</table>"
      ],
      "text/plain": [
       "<IPython.core.display.HTML object>"
      ]
     },
     "metadata": {},
     "output_type": "display_data"
    }
   ],
   "source": [
    "%%mysql -v query_results\n",
    "SELECT * FROM Employee;"
   ]
  },
  {
   "cell_type": "code",
   "execution_count": 8,
   "id": "4bd2acc4",
   "metadata": {},
   "outputs": [
    {
     "data": {
      "text/html": [
       "<div>\n",
       "<style scoped>\n",
       "    .dataframe tbody tr th:only-of-type {\n",
       "        vertical-align: middle;\n",
       "    }\n",
       "\n",
       "    .dataframe tbody tr th {\n",
       "        vertical-align: top;\n",
       "    }\n",
       "\n",
       "    .dataframe thead th {\n",
       "        text-align: right;\n",
       "    }\n",
       "</style>\n",
       "<table border=\"1\" class=\"dataframe\">\n",
       "  <thead>\n",
       "    <tr style=\"text-align: right;\">\n",
       "      <th></th>\n",
       "      <th>PersonID</th>\n",
       "      <th>FirstName</th>\n",
       "      <th>LastName</th>\n",
       "      <th>Age</th>\n",
       "      <th>Sex</th>\n",
       "      <th>Income</th>\n",
       "    </tr>\n",
       "  </thead>\n",
       "  <tbody>\n",
       "    <tr>\n",
       "      <th>0</th>\n",
       "      <td>1</td>\n",
       "      <td>Jack</td>\n",
       "      <td>Ma</td>\n",
       "      <td>50</td>\n",
       "      <td>M</td>\n",
       "      <td>20000000.0</td>\n",
       "    </tr>\n",
       "  </tbody>\n",
       "</table>\n",
       "</div>"
      ],
      "text/plain": [
       "   PersonID FirstName LastName  Age Sex      Income\n",
       "0         1      Jack       Ma   50   M  20000000.0"
      ]
     },
     "execution_count": 8,
     "metadata": {},
     "output_type": "execute_result"
    }
   ],
   "source": [
    "query_results"
   ]
  },
  {
   "cell_type": "markdown",
   "id": "4fedbaa5",
   "metadata": {},
   "source": [
    "# update"
   ]
  },
  {
   "cell_type": "code",
   "execution_count": 9,
   "id": "5c43d9d9",
   "metadata": {
    "scrolled": false
   },
   "outputs": [
    {
     "name": "stdout",
     "output_type": "stream",
     "text": [
      "1\n"
     ]
    }
   ],
   "source": [
    "%%mysql\n",
    "UPDATE Employee\n",
    "SET Income = 200000\n",
    "WHERE FirstName = 'Jack' AND LastName = 'Ma';"
   ]
  },
  {
   "cell_type": "code",
   "execution_count": 10,
   "id": "79d7a621",
   "metadata": {
    "scrolled": true
   },
   "outputs": [
    {
     "data": {
      "text/html": [
       "<table border=\"1\" class=\"dataframe\">\n",
       "  <thead>\n",
       "    <tr style=\"text-align: right;\">\n",
       "      <th></th>\n",
       "      <th>PersonID</th>\n",
       "      <th>FirstName</th>\n",
       "      <th>LastName</th>\n",
       "      <th>Age</th>\n",
       "      <th>Sex</th>\n",
       "      <th>Income</th>\n",
       "    </tr>\n",
       "  </thead>\n",
       "  <tbody>\n",
       "    <tr>\n",
       "      <th>0</th>\n",
       "      <td>1</td>\n",
       "      <td>Jack</td>\n",
       "      <td>Ma</td>\n",
       "      <td>50</td>\n",
       "      <td>M</td>\n",
       "      <td>200000.0</td>\n",
       "    </tr>\n",
       "  </tbody>\n",
       "</table>"
      ],
      "text/plain": [
       "<IPython.core.display.HTML object>"
      ]
     },
     "metadata": {},
     "output_type": "display_data"
    }
   ],
   "source": [
    "%%mysql\n",
    "SELECT * FROM Employee;"
   ]
  },
  {
   "cell_type": "markdown",
   "id": "816a6734",
   "metadata": {},
   "source": [
    "# delete"
   ]
  },
  {
   "cell_type": "code",
   "execution_count": 11,
   "id": "d0e0362b",
   "metadata": {
    "scrolled": false
   },
   "outputs": [
    {
     "name": "stdout",
     "output_type": "stream",
     "text": [
      "1\n"
     ]
    }
   ],
   "source": [
    "%%mysql\n",
    "DELETE \n",
    "FROM Employee\n",
    "WHERE FirstName = 'Jack' AND LastName = 'Ma';"
   ]
  },
  {
   "cell_type": "code",
   "execution_count": 12,
   "id": "29b59ef3",
   "metadata": {
    "scrolled": true
   },
   "outputs": [
    {
     "name": "stdout",
     "output_type": "stream",
     "text": [
      "0\n"
     ]
    }
   ],
   "source": [
    "%%mysql\n",
    "SELECT * FROM Employee;"
   ]
  },
  {
   "cell_type": "code",
   "execution_count": 13,
   "id": "b3ab0e16",
   "metadata": {},
   "outputs": [],
   "source": [
    "%%mysql?"
   ]
  },
  {
   "cell_type": "code",
   "execution_count": null,
   "id": "3ef2bbab",
   "metadata": {},
   "outputs": [],
   "source": []
  }
 ],
 "metadata": {
  "kernelspec": {
   "display_name": "Python 3",
   "language": "python",
   "name": "python3"
  },
  "language_info": {
   "codemirror_mode": {
    "name": "ipython",
    "version": 3
   },
   "file_extension": ".py",
   "mimetype": "text/x-python",
   "name": "python",
   "nbconvert_exporter": "python",
   "pygments_lexer": "ipython3",
   "version": "3.8.8"
  }
 },
 "nbformat": 4,
 "nbformat_minor": 5
}
