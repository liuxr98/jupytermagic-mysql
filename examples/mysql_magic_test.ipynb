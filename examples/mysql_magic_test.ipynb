{
 "cells": [
  {
   "cell_type": "markdown",
   "id": "d506c2f1",
   "metadata": {},
   "source": [
    "# load extension"
   ]
  },
  {
   "cell_type": "code",
   "execution_count": 2,
   "id": "7ed007c1",
   "metadata": {},
   "outputs": [],
   "source": [
    "%reload_ext mysqlmagic"
   ]
  },
  {
   "cell_type": "markdown",
   "id": "3ca4b0a8",
   "metadata": {},
   "source": [
    "# set database configs"
   ]
  },
  {
   "cell_type": "code",
   "execution_count": 3,
   "id": "21c60a09",
   "metadata": {
    "scrolled": false
   },
   "outputs": [
    {
     "name": "stdout",
     "output_type": "stream",
     "text": [
      "Connect to the database successfully! The database version is 8.0.26\n"
     ]
    }
   ],
   "source": [
    "%%configs\n",
    "{\n",
    "    \"user\": \"root\",\n",
    "    \"password\": \"admin\",\n",
    "    \"host\": \"127.0.0.1\",\n",
    "    \"port\": 13306\n",
    "}"
   ]
  },
  {
   "cell_type": "code",
   "execution_count": 4,
   "id": "8ca4496a",
   "metadata": {
    "scrolled": false
   },
   "outputs": [
    {
     "name": "stdout",
     "output_type": "stream",
     "text": [
      "0\n"
     ]
    }
   ],
   "source": [
    "%%mysql\n",
    "USE PEOPLE;"
   ]
  },
  {
   "cell_type": "markdown",
   "id": "b31576dc",
   "metadata": {},
   "source": [
    "# select"
   ]
  },
  {
   "cell_type": "code",
   "execution_count": 5,
   "id": "071de6e9",
   "metadata": {
    "scrolled": true
   },
   "outputs": [
    {
     "data": {
      "text/html": [
       "<table border=\"1\" class=\"dataframe\">\n",
       "  <thead>\n",
       "    <tr style=\"text-align: right;\">\n",
       "      <th></th>\n",
       "      <th>FIRST_NAME</th>\n",
       "      <th>LAST_NAME</th>\n",
       "      <th>AGE</th>\n",
       "      <th>SEX</th>\n",
       "      <th>INCOME</th>\n",
       "    </tr>\n",
       "  </thead>\n",
       "  <tbody>\n",
       "    <tr>\n",
       "      <th>0</th>\n",
       "      <td>Mac</td>\n",
       "      <td>Mohan</td>\n",
       "      <td>21</td>\n",
       "      <td>M</td>\n",
       "      <td>2000.0</td>\n",
       "    </tr>\n",
       "  </tbody>\n",
       "</table>"
      ],
      "text/plain": [
       "<IPython.core.display.HTML object>"
      ]
     },
     "metadata": {},
     "output_type": "display_data"
    }
   ],
   "source": [
    "%%mysql -v query_results -f query_results.csv\n",
    "SELECT *\n",
    "FROM EMPLOYEE;"
   ]
  },
  {
   "cell_type": "code",
   "execution_count": 6,
   "id": "4bd2acc4",
   "metadata": {},
   "outputs": [
    {
     "data": {
      "text/html": [
       "<div>\n",
       "<style scoped>\n",
       "    .dataframe tbody tr th:only-of-type {\n",
       "        vertical-align: middle;\n",
       "    }\n",
       "\n",
       "    .dataframe tbody tr th {\n",
       "        vertical-align: top;\n",
       "    }\n",
       "\n",
       "    .dataframe thead th {\n",
       "        text-align: right;\n",
       "    }\n",
       "</style>\n",
       "<table border=\"1\" class=\"dataframe\">\n",
       "  <thead>\n",
       "    <tr style=\"text-align: right;\">\n",
       "      <th></th>\n",
       "      <th>FIRST_NAME</th>\n",
       "      <th>LAST_NAME</th>\n",
       "      <th>AGE</th>\n",
       "      <th>SEX</th>\n",
       "      <th>INCOME</th>\n",
       "    </tr>\n",
       "  </thead>\n",
       "  <tbody>\n",
       "    <tr>\n",
       "      <th>0</th>\n",
       "      <td>Mac</td>\n",
       "      <td>Mohan</td>\n",
       "      <td>21</td>\n",
       "      <td>M</td>\n",
       "      <td>2000.0</td>\n",
       "    </tr>\n",
       "  </tbody>\n",
       "</table>\n",
       "</div>"
      ],
      "text/plain": [
       "  FIRST_NAME LAST_NAME  AGE SEX  INCOME\n",
       "0        Mac     Mohan   21   M  2000.0"
      ]
     },
     "execution_count": 6,
     "metadata": {},
     "output_type": "execute_result"
    }
   ],
   "source": [
    "query_results"
   ]
  },
  {
   "cell_type": "markdown",
   "id": "1c7415ae",
   "metadata": {},
   "source": [
    "# insert"
   ]
  },
  {
   "cell_type": "code",
   "execution_count": 6,
   "id": "59dbb8e2",
   "metadata": {
    "scrolled": false
   },
   "outputs": [
    {
     "name": "stdout",
     "output_type": "stream",
     "text": [
      "1\n"
     ]
    }
   ],
   "source": [
    "%%mysql\n",
    "INSERT INTO EMPLOYEE(FIRST_NAME, LAST_NAME, AGE, SEX, INCOME)\n",
    "VALUES ('Jack', 'Ma', 50, 'M', 20000000)"
   ]
  },
  {
   "cell_type": "code",
   "execution_count": 7,
   "id": "a57762d0",
   "metadata": {
    "scrolled": false
   },
   "outputs": [
    {
     "data": {
      "text/html": [
       "<table border=\"1\" class=\"dataframe\">\n",
       "  <thead>\n",
       "    <tr style=\"text-align: right;\">\n",
       "      <th></th>\n",
       "      <th>FIRST_NAME</th>\n",
       "      <th>LAST_NAME</th>\n",
       "      <th>AGE</th>\n",
       "      <th>SEX</th>\n",
       "      <th>INCOME</th>\n",
       "    </tr>\n",
       "  </thead>\n",
       "  <tbody>\n",
       "    <tr>\n",
       "      <th>0</th>\n",
       "      <td>Mac</td>\n",
       "      <td>Mohan</td>\n",
       "      <td>21</td>\n",
       "      <td>M</td>\n",
       "      <td>2000.0</td>\n",
       "    </tr>\n",
       "    <tr>\n",
       "      <th>1</th>\n",
       "      <td>Jack</td>\n",
       "      <td>Ma</td>\n",
       "      <td>50</td>\n",
       "      <td>M</td>\n",
       "      <td>20000000.0</td>\n",
       "    </tr>\n",
       "  </tbody>\n",
       "</table>"
      ],
      "text/plain": [
       "<IPython.core.display.HTML object>"
      ]
     },
     "metadata": {},
     "output_type": "display_data"
    }
   ],
   "source": [
    "%%mysql\n",
    "SELECT *\n",
    "FROM EMPLOYEE;"
   ]
  },
  {
   "cell_type": "markdown",
   "id": "4fedbaa5",
   "metadata": {},
   "source": [
    "# update"
   ]
  },
  {
   "cell_type": "code",
   "execution_count": 8,
   "id": "5c43d9d9",
   "metadata": {
    "scrolled": false
   },
   "outputs": [
    {
     "name": "stdout",
     "output_type": "stream",
     "text": [
      "1\n"
     ]
    }
   ],
   "source": [
    "%%mysql\n",
    "UPDATE EMPLOYEE\n",
    "SET INCOME = 200000\n",
    "WHERE FIRST_NAME = 'Jack' AND LAST_NAME = 'Ma';"
   ]
  },
  {
   "cell_type": "code",
   "execution_count": 9,
   "id": "79d7a621",
   "metadata": {
    "scrolled": true
   },
   "outputs": [
    {
     "data": {
      "text/html": [
       "<table border=\"1\" class=\"dataframe\">\n",
       "  <thead>\n",
       "    <tr style=\"text-align: right;\">\n",
       "      <th></th>\n",
       "      <th>FIRST_NAME</th>\n",
       "      <th>LAST_NAME</th>\n",
       "      <th>AGE</th>\n",
       "      <th>SEX</th>\n",
       "      <th>INCOME</th>\n",
       "    </tr>\n",
       "  </thead>\n",
       "  <tbody>\n",
       "    <tr>\n",
       "      <th>0</th>\n",
       "      <td>Mac</td>\n",
       "      <td>Mohan</td>\n",
       "      <td>21</td>\n",
       "      <td>M</td>\n",
       "      <td>2000.0</td>\n",
       "    </tr>\n",
       "    <tr>\n",
       "      <th>1</th>\n",
       "      <td>Jack</td>\n",
       "      <td>Ma</td>\n",
       "      <td>50</td>\n",
       "      <td>M</td>\n",
       "      <td>200000.0</td>\n",
       "    </tr>\n",
       "  </tbody>\n",
       "</table>"
      ],
      "text/plain": [
       "<IPython.core.display.HTML object>"
      ]
     },
     "metadata": {},
     "output_type": "display_data"
    }
   ],
   "source": [
    "%%mysql\n",
    "SELECT *\n",
    "FROM EMPLOYEE;"
   ]
  },
  {
   "cell_type": "markdown",
   "id": "816a6734",
   "metadata": {},
   "source": [
    "# delete"
   ]
  },
  {
   "cell_type": "code",
   "execution_count": 10,
   "id": "d0e0362b",
   "metadata": {
    "scrolled": false
   },
   "outputs": [
    {
     "name": "stdout",
     "output_type": "stream",
     "text": [
      "1\n"
     ]
    }
   ],
   "source": [
    "%%mysql\n",
    "DELETE \n",
    "FROM EMPLOYEE\n",
    "WHERE FIRST_NAME = 'Jack' AND LAST_NAME = 'Ma';"
   ]
  },
  {
   "cell_type": "code",
   "execution_count": 11,
   "id": "29b59ef3",
   "metadata": {
    "scrolled": true
   },
   "outputs": [
    {
     "data": {
      "text/html": [
       "<table border=\"1\" class=\"dataframe\">\n",
       "  <thead>\n",
       "    <tr style=\"text-align: right;\">\n",
       "      <th></th>\n",
       "      <th>FIRST_NAME</th>\n",
       "      <th>LAST_NAME</th>\n",
       "      <th>AGE</th>\n",
       "      <th>SEX</th>\n",
       "      <th>INCOME</th>\n",
       "    </tr>\n",
       "  </thead>\n",
       "  <tbody>\n",
       "    <tr>\n",
       "      <th>0</th>\n",
       "      <td>Mac</td>\n",
       "      <td>Mohan</td>\n",
       "      <td>21</td>\n",
       "      <td>M</td>\n",
       "      <td>2000.0</td>\n",
       "    </tr>\n",
       "  </tbody>\n",
       "</table>"
      ],
      "text/plain": [
       "<IPython.core.display.HTML object>"
      ]
     },
     "metadata": {},
     "output_type": "display_data"
    }
   ],
   "source": [
    "%%mysql\n",
    "SELECT *\n",
    "FROM EMPLOYEE;"
   ]
  },
  {
   "cell_type": "code",
   "execution_count": 7,
   "id": "b3ab0e16",
   "metadata": {},
   "outputs": [],
   "source": [
    "%%mysql?"
   ]
  }
 ],
 "metadata": {
  "kernelspec": {
   "display_name": "Python 3",
   "language": "python",
   "name": "python3"
  },
  "language_info": {
   "codemirror_mode": {
    "name": "ipython",
    "version": 3
   },
   "file_extension": ".py",
   "mimetype": "text/x-python",
   "name": "python",
   "nbconvert_exporter": "python",
   "pygments_lexer": "ipython3",
   "version": "3.8.8"
  }
 },
 "nbformat": 4,
 "nbformat_minor": 5
}
